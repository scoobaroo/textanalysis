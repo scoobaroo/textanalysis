{
 "cells": [
  {
   "cell_type": "code",
   "execution_count": 18,
   "metadata": {},
   "outputs": [
    {
     "ename": "SyntaxError",
     "evalue": "invalid syntax (<ipython-input-18-75df9b79514a>, line 35)",
     "output_type": "error",
     "traceback": [
      "\u001b[0;36m  File \u001b[0;32m\"<ipython-input-18-75df9b79514a>\"\u001b[0;36m, line \u001b[0;32m35\u001b[0m\n\u001b[0;31m    global TOKENS = stemmedtokens\u001b[0m\n\u001b[0m                  ^\u001b[0m\n\u001b[0;31mSyntaxError\u001b[0m\u001b[0;31m:\u001b[0m invalid syntax\n"
     ]
    }
   ],
   "source": [
    "import pandas\n",
    "import numpy\n",
    "import scipy\n",
    "import string\n",
    "import pprint\n",
    "from string import digits\n",
    "from sklearn.feature_extraction.text import CountVectorizer\n",
    "from sklearn.feature_extraction.text import TfidfTransformer\n",
    "from nltk.tokenize import TweetTokenizer\n",
    "from porter2stemmer import Porter2Stemmer\n",
    "import nltk\n",
    "from nltk.corpus import stopwords\n",
    "\n",
    "import gensim\n",
    "import os\n",
    "import collections\n",
    "import smart_open\n",
    "import random\n",
    "import pandas as pd\n",
    "import matplotlib.pyplot as plt\n",
    "from sklearn.manifold import TSNE\n",
    "\n",
    "tknzr = TweetTokenizer()\n",
    "stemmer = Porter2Stemmer()\n",
    "stopWords = set(stopwords.words('english'))\n",
    "TOKENS = []\n",
    "def readfile(fname):\n",
    "    array = []\n",
    "    file = open(fname, \"r\")\n",
    "    lines = file.readlines()\n",
    "    filestring = \" \".join(lines)\n",
    "    everything = ' '.join(filestring.split(' '))\n",
    "    tokens = tknzr.tokenize(everything);\n",
    "    stemmedtokens = stem(tokens)\n",
    "    global TOKENS\n",
    "    TOKENS = stemmedtokens\n",
    "    print(stemmedtokens)\n",
    "\n",
    "def stem(array):\n",
    "    stemmed = []\n",
    "    for w in array:\n",
    "        if w not in stopWords:\n",
    "            w = stemmer.stem(w)\n",
    "            stemmed.append(w)\n",
    "    return stemmed\n",
    "    \n",
    "readfile(\"/Users/erichan/desktop/cs286machinelearning/marktwain/combined.txt\")"
   ]
  },
  {
   "cell_type": "code",
   "execution_count": null,
   "metadata": {
    "collapsed": true
   },
   "outputs": [],
   "source": []
  }
 ],
 "metadata": {
  "kernelspec": {
   "display_name": "Python 3",
   "language": "python",
   "name": "python3"
  },
  "language_info": {
   "codemirror_mode": {
    "name": "ipython",
    "version": 3
   },
   "file_extension": ".py",
   "mimetype": "text/x-python",
   "name": "python",
   "nbconvert_exporter": "python",
   "pygments_lexer": "ipython3",
   "version": "3.6.1"
  }
 },
 "nbformat": 4,
 "nbformat_minor": 2
}
